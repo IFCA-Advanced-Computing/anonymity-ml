{
 "cells": [
  {
   "cell_type": "markdown",
   "id": "8b98abd8",
   "metadata": {},
   "source": [
    "## Study the level of anonymity of each scenario"
   ]
  },
  {
   "cell_type": "code",
   "execution_count": 1,
   "id": "94666bc8",
   "metadata": {},
   "outputs": [],
   "source": [
    "import numpy as np\n",
    "import pandas as pd\n",
    "import pycanon\n",
    "from pycanon import report"
   ]
  },
  {
   "cell_type": "code",
   "execution_count": 2,
   "id": "e060b399",
   "metadata": {},
   "outputs": [],
   "source": [
    "QI = ['age', 'education', 'occupation', 'relationship', 'sex', 'native-country']\n",
    "SA = ['salary-class']"
   ]
  },
  {
   "cell_type": "code",
   "execution_count": 3,
   "id": "ae33bf39",
   "metadata": {},
   "outputs": [
    {
     "name": "stdout",
     "output_type": "stream",
     "text": [
      "c for (c,l)-diversity cannot be calculated as l=1\n",
      "The dataset verifies:\n",
      "          \t - k-anonymity with k = 5\n",
      "          \t - (alpha,k)-anonymity with alpha = 1.0 and k = 5\n",
      "          \t - l-diversity with l = 1\n",
      "          \t - entropy l-diversity with l = 1\n",
      "          \t - (c,l)-diversity with c = nan and l = 1\n",
      "          \t - basic beta-likeness with beta = 3.0649008459298295\n",
      "          \t - enhanced beta-likeness with beta = 1.4023893505570972\n",
      "          \t - t-closeness with t = 0.75399153930131\n",
      "          \t - delta-disclosure privacy with delta = 4.102942185375266\n"
     ]
    }
   ],
   "source": [
    "df = pd.read_csv('../data/adult_k5_new.csv')\n",
    "pycanon.report.print_report(df, QI, SA)"
   ]
  },
  {
   "cell_type": "code",
   "execution_count": 4,
   "id": "5bc9d89b",
   "metadata": {},
   "outputs": [
    {
     "name": "stdout",
     "output_type": "stream",
     "text": [
      "The dataset verifies:\n",
      "          \t - k-anonymity with k = 5\n",
      "          \t - (alpha,k)-anonymity with alpha = 0.9979879275653923 and k = 5\n",
      "          \t - l-diversity with l = 2\n",
      "          \t - entropy l-diversity with l = 1\n",
      "          \t - (c,l)-diversity with c = 1 and l = 2\n",
      "          \t - basic beta-likeness with beta = 2.42817438855838\n",
      "          \t - enhanced beta-likeness with beta = 1.3291916197034168\n",
      "          \t - t-closeness with t = 0.6427162614622353\n",
      "          \t - delta-disclosure privacy with delta = 4.879398406393212\n"
     ]
    }
   ],
   "source": [
    "df = pd.read_csv('../data/adult_k5_l2_new.csv')\n",
    "pycanon.report.print_report(df, QI, SA)"
   ]
  },
  {
   "cell_type": "code",
   "execution_count": 5,
   "id": "e9ad2f0c",
   "metadata": {},
   "outputs": [
    {
     "name": "stdout",
     "output_type": "stream",
     "text": [
      "c for (c,l)-diversity cannot be calculated as l=1\n",
      "The dataset verifies:\n",
      "          \t - k-anonymity with k = 5\n",
      "          \t - (alpha,k)-anonymity with alpha = 1.0 and k = 5\n",
      "          \t - l-diversity with l = 1\n",
      "          \t - entropy l-diversity with l = 1\n",
      "          \t - (c,l)-diversity with c = nan and l = 1\n",
      "          \t - basic beta-likeness with beta = 2.8261494252873565\n",
      "          \t - enhanced beta-likeness with beta = 1.4043792824608465\n",
      "          \t - t-closeness with t = 0.6938745320269917\n",
      "          \t - delta-disclosure privacy with delta = 4.100952253471516\n"
     ]
    }
   ],
   "source": [
    "df = pd.read_csv('../data/adult_k5_t07_new.csv')\n",
    "pycanon.report.print_report(df, QI, SA)"
   ]
  },
  {
   "cell_type": "code",
   "execution_count": 6,
   "id": "f8c4b0fe",
   "metadata": {},
   "outputs": [
    {
     "name": "stdout",
     "output_type": "stream",
     "text": [
      "c for (c,l)-diversity cannot be calculated as l=1\n",
      "The dataset verifies:\n",
      "          \t - k-anonymity with k = 5\n",
      "          \t - (alpha,k)-anonymity with alpha = 1.0 and k = 5\n",
      "          \t - l-diversity with l = 1\n",
      "          \t - entropy l-diversity with l = 1\n",
      "          \t - (c,l)-diversity with c = nan and l = 1\n",
      "          \t - basic beta-likeness with beta = 2.9009827905376944\n",
      "          \t - enhanced beta-likeness with beta = 1.423748875944647\n",
      "          \t - t-closeness with t = 0.698584381947915\n",
      "          \t - delta-disclosure privacy with delta = 4.081582659987716\n"
     ]
    }
   ],
   "source": [
    "df = pd.read_csv('../data/adult_k5_t07.csv')\n",
    "pycanon.report.print_report(df, QI, SA)"
   ]
  },
  {
   "cell_type": "code",
   "execution_count": 7,
   "id": "83b5651f",
   "metadata": {},
   "outputs": [
    {
     "name": "stdout",
     "output_type": "stream",
     "text": [
      "c for (c,l)-diversity cannot be calculated as l=1\n",
      "The dataset verifies:\n",
      "          \t - k-anonymity with k = 5\n",
      "          \t - (alpha,k)-anonymity with alpha = 1.0 and k = 5\n",
      "          \t - l-diversity with l = 1\n",
      "          \t - entropy l-diversity with l = 1\n",
      "          \t - (c,l)-diversity with c = nan and l = 1\n",
      "          \t - basic beta-likeness with beta = 2.248677034942436\n",
      "          \t - enhanced beta-likeness with beta = 1.6890734710621536\n",
      "          \t - t-closeness with t = 0.4153094341030328\n",
      "          \t - delta-disclosure privacy with delta = 4.519516555034475\n"
     ]
    }
   ],
   "source": [
    "df = pd.read_csv('../data/adult_k5_beta15_new.csv')\n",
    "pycanon.report.print_report(df, QI, SA)"
   ]
  },
  {
   "cell_type": "code",
   "execution_count": 8,
   "id": "2a1ba1c8",
   "metadata": {},
   "outputs": [
    {
     "data": {
      "text/plain": [
       "5754"
      ]
     },
     "execution_count": 8,
     "metadata": {},
     "output_type": "execute_result"
    }
   ],
   "source": [
    "len(pd.read_csv('../data/adult_k5_beta15.csv')) - len(pd.read_csv('../data/adult_k5_beta15_new.csv'))"
   ]
  },
  {
   "cell_type": "code",
   "execution_count": 9,
   "id": "9c26d686",
   "metadata": {},
   "outputs": [
    {
     "name": "stdout",
     "output_type": "stream",
     "text": [
      "c for (c,l)-diversity cannot be calculated as l=1\n",
      "The dataset verifies:\n",
      "          \t - k-anonymity with k = 5\n",
      "          \t - (alpha,k)-anonymity with alpha = 1.0 and k = 5\n",
      "          \t - l-diversity with l = 1\n",
      "          \t - entropy l-diversity with l = 1\n",
      "          \t - (c,l)-diversity with c = nan and l = 1\n",
      "          \t - basic beta-likeness with beta = 1.4915954597627852\n",
      "          \t - enhanced beta-likeness with beta = 1.423748875944647\n",
      "          \t - t-closeness with t = 0.3591904425539756\n",
      "          \t - delta-disclosure privacy with delta = 4.784841150151982\n"
     ]
    }
   ],
   "source": [
    "df = pd.read_csv('../data/adult_k5_beta15.csv')\n",
    "pycanon.report.print_report(df, QI, SA)"
   ]
  }
 ],
 "metadata": {
  "kernelspec": {
   "display_name": "Python 3 (ipykernel)",
   "language": "python",
   "name": "python3"
  },
  "language_info": {
   "codemirror_mode": {
    "name": "ipython",
    "version": 3
   },
   "file_extension": ".py",
   "mimetype": "text/x-python",
   "name": "python",
   "nbconvert_exporter": "python",
   "pygments_lexer": "ipython3",
   "version": "3.8.2"
  }
 },
 "nbformat": 4,
 "nbformat_minor": 5
}
